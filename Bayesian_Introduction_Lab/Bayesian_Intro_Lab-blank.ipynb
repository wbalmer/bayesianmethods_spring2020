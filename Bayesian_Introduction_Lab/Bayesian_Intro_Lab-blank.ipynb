{
 "cells": [
  {
   "cell_type": "markdown",
   "metadata": {},
   "source": [
    "## Introduction to Bayesian Statistics Lab\n",
    "### Names: (Your name here)"
   ]
  },
  {
   "cell_type": "code",
   "execution_count": null,
   "metadata": {},
   "outputs": [],
   "source": [
    "# begin by importing necessary modules\n",
    "import numpy as np\n",
    "import pandas as pd\n",
    "from scipy.stats import gaussian_kde\n",
    "from astropy import units as u\n",
    "\n",
    "# plotting imports\n",
    "import matplotlib.pyplot as plt\n",
    "import seaborn as sb\n",
    "%matplotlib inline\n",
    "\n",
    "# import a real dataset, one containing the properties of exoplanets discovered by the TESS satelite\n",
    "\n",
    "TESS = pd.read_csv('TESS_planets.csv', skiprows=80)\n",
    "KEPL = pd.read_csv('Kepler_planets.csv', skiprows=54)"
   ]
  },
  {
   "cell_type": "markdown",
   "metadata": {},
   "source": [
    "<div class=\"alert alert-block alert-info\">\n",
    "<p>According to wikipedia, \"the Kepler telescope is a retired space telescope launched by NASA to discover Earth-size planets orbiting other stars... After nine years of operation, the telescope's reaction control system fuel was depleted, and NASA announced its retirement on October 30, 2018.\" The telescope helped astronomers and a community of scientists confirm over 2000 planet detections. But the Kepler mission, as you might have discussed, has major selection biases.</p>\n",
    "\n",
    "    \n",
    "<p>Kepler's spiritual successor, TESS, is the \"Transiting Exoplanet Survey Satellite... a space telescope... designed to search for exoplanets using the transit method in an area 400 times larger than that covered by the Kepler mission.\" Data from TESS is still being beamed down to Earth, but a large number of exoplanets have already been confirmed using TESS.</p>\n",
    "    \n",
    "<p><b>Let's use bayesian statistics to see how our understanding of the properties of the exoplanet population has changed, using Kepler data as an informed prior and TESS data as our new observations.</b></p></div>"
   ]
  },
  {
   "cell_type": "markdown",
   "metadata": {},
   "source": [
    "### Constructing a prior"
   ]
  },
  {
   "cell_type": "markdown",
   "metadata": {},
   "source": [
    "<div class=\"alert alert-block alert-info\">\n",
    "First, <b>pick one of the following four qualities of an exoplanet: radius, orbital semi-major axis, orbital period, or temperature. Check the units for each of your choice</b> of parameter in both dataset by opening the csv file in Excel or an equivalent program. Comment which parameter you chose, and what units it has in both datasets.</div>\n",
    "\n",
    "**Answer:**\n"
   ]
  },
  {
   "cell_type": "markdown",
   "metadata": {},
   "source": [
    "<div class=\"alert alert-block alert-info\">\n",
    "A prior is a continuous distribution, but we have a set of discrete data points. What we'll do next is construct a prior for our chosen parameter using our Kepler data. <b>First, let's set a variable we'll call \"prior_data\" equal to an array containing our data.<b>"
   ]
  },
  {
   "cell_type": "code",
   "execution_count": null,
   "metadata": {},
   "outputs": [],
   "source": [
    "prior_data = \n",
    "prior_data = prior_data.dropna().to_numpy()"
   ]
  },
  {
   "cell_type": "markdown",
   "metadata": {},
   "source": [
    "<div class=\"alert alert-block alert-info\">\n",
    "    Running these next cells will construct a continuous distribution, composed of multiple gaussian distributions, that fit our data. Read through them, check the documentation of functions you haven't encountered yet, and comment what you believe each line accomplishes. How does this \"prior_pdf\" compare to a histogram of your data?"
   ]
  },
  {
   "cell_type": "code",
   "execution_count": null,
   "metadata": {},
   "outputs": [],
   "source": [
    "x = np.arange(50,4000)\n",
    "\n",
    "prior = gaussian_kde(prior_data)\n",
    "\n",
    "prior_pdf = prior.pdf(x)\n",
    "\n",
    "plt.figure(figsize=(9,6))\n",
    "plt.fill_between(x, prior_pdf, alpha=0.7) "
   ]
  },
  {
   "cell_type": "markdown",
   "metadata": {},
   "source": [
    "<div class=\"alert alert-block alert-info\">\n",
    "    Now we have a PDF (probability density function), for our prior. We know that our posterior will be proportional to our prior multiplied by our data. Now, let's construct a PDF for our data."
   ]
  },
  {
   "cell_type": "markdown",
   "metadata": {},
   "source": [
    "### The constructing the likelihood of our data"
   ]
  },
  {
   "cell_type": "markdown",
   "metadata": {},
   "source": [
    "<div class=\"alert alert-block alert-info\">\n",
    "    Like you did for your prior data, assign the variable \"data\" to the TESS data for your given parameter. Make sure you transform the units of this data into the same units as the prior. Then, run the cell that creates a PDF for this data, and check that the resulting plot looks correct."
   ]
  },
  {
   "cell_type": "code",
   "execution_count": null,
   "metadata": {},
   "outputs": [],
   "source": [
    "data = \n",
    "data = data.dropna().to_numpy()"
   ]
  },
  {
   "cell_type": "code",
   "execution_count": null,
   "metadata": {
    "scrolled": false
   },
   "outputs": [],
   "source": [
    "data_model = gaussian_kde(data)\n",
    "\n",
    "likelihood = data_model.pdf(x)\n",
    "\n",
    "plt.figure(figsize=(9,6))\n",
    "plt.fill_between(x, likelihood, alpha=0.7) "
   ]
  },
  {
   "cell_type": "markdown",
   "metadata": {},
   "source": [
    "<div class=\"alert alert-block alert-info\">\n",
    "    Describe what is qualitatively different about your TESS data and the prior Kepler data. Why might the distribution have changed between the two series of observations? </div>\n",
    "    \n",
    "**Answer:**"
   ]
  },
  {
   "cell_type": "markdown",
   "metadata": {},
   "source": [
    "### Generating the posterior\n",
    "<div class=\"alert alert-block alert-info\">\n",
    "    Now, <b>your task is to construct a posterior distribution that is the product of your prior and your observation</b>. Once you have this posterior, <b>graph it first on it's own, then transparently alongside the prior and data</b>. For this step, you will need to normalize the prior, data, and posterior. Think about how you may perform this normalization, and if you get stuck, ask for help."
   ]
  },
  {
   "cell_type": "code",
   "execution_count": null,
   "metadata": {},
   "outputs": [],
   "source": [
    "# your code here"
   ]
  },
  {
   "cell_type": "code",
   "execution_count": null,
   "metadata": {},
   "outputs": [],
   "source": [
    "# your plotting code here"
   ]
  },
  {
   "cell_type": "markdown",
   "metadata": {},
   "source": [
    "<div class=\"alert alert-block alert-info\">\n",
    "    <b>Describe how TESS observations of your parameter have affected the posterior. Does the posterior more dramatically resemble the prior or the data? Why?</b></div>\n",
    "\n",
    "**Answer:**"
   ]
  },
  {
   "cell_type": "code",
   "execution_count": null,
   "metadata": {},
   "outputs": [],
   "source": []
  }
 ],
 "metadata": {
  "kernelspec": {
   "display_name": "Python 3",
   "language": "python",
   "name": "python3"
  },
  "language_info": {
   "codemirror_mode": {
    "name": "ipython",
    "version": 3
   },
   "file_extension": ".py",
   "mimetype": "text/x-python",
   "name": "python",
   "nbconvert_exporter": "python",
   "pygments_lexer": "ipython3",
   "version": "3.7.6"
  }
 },
 "nbformat": 4,
 "nbformat_minor": 4
}
